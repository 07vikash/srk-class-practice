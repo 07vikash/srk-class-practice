{
 "cells": [
  {
   "cell_type": "code",
   "execution_count": 1,
   "id": "6094941a",
   "metadata": {},
   "outputs": [
    {
     "data": {
      "text/plain": [
       "'Data Structure'"
      ]
     },
     "execution_count": 1,
     "metadata": {},
     "output_type": "execute_result"
    }
   ],
   "source": [
    "'''Data Structure'''"
   ]
  },
  {
   "cell_type": "code",
   "execution_count": null,
   "id": "ed3cf941",
   "metadata": {},
   "outputs": [],
   "source": [
    "'''Set And Dictionary'''\n",
    "''''''"
   ]
  },
  {
   "cell_type": "code",
   "execution_count": 2,
   "id": "0a7958b0",
   "metadata": {},
   "outputs": [
    {
     "data": {
      "text/plain": [
       "{10, 20, 30, 40}"
      ]
     },
     "execution_count": 2,
     "metadata": {},
     "output_type": "execute_result"
    }
   ],
   "source": [
    "s1 = {10,20,30,40}\n",
    "s1"
   ]
  },
  {
   "cell_type": "code",
   "execution_count": null,
   "id": "ae4a9335",
   "metadata": {},
   "outputs": [],
   "source": []
  }
 ],
 "metadata": {
  "kernelspec": {
   "display_name": "Python 3 (ipykernel)",
   "language": "python",
   "name": "python3"
  },
  "language_info": {
   "codemirror_mode": {
    "name": "ipython",
    "version": 3
   },
   "file_extension": ".py",
   "mimetype": "text/x-python",
   "name": "python",
   "nbconvert_exporter": "python",
   "pygments_lexer": "ipython3",
   "version": "3.9.12"
  }
 },
 "nbformat": 4,
 "nbformat_minor": 5
}
