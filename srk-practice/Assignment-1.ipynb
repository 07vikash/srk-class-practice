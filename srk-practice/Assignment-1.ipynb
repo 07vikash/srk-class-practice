{
 "cells": [
  {
   "cell_type": "code",
   "execution_count": null,
   "id": "285d7ee7",
   "metadata": {},
   "outputs": [],
   "source": [
    "\n",
    "weight=float(input(\"Enter Your weight in kg \"))\n",
    "pref=input(\"What is your preferred unit of height? Type 'F' for feet and 'M' for meters\")\n",
    "if pref==\"F\":\n",
    "    h_ft=int(input(\"Enter feet : \"))\n",
    "    h_inch=int(input(\"now inches : \"))\n",
    "    meters = (h_ft + h_inch/12) * 0.3048\n",
    "else:\n",
    "    meters=float(input(\"Enter your height : \"))\n",
    "print(\"Your height is :\",round(meters,2),\"meters\")\n",
    "\n",
    "BMI=weight/meters**2\n",
    "print(\"Your BMI is:\",round(BMI,2))\n",
    "if BMI<18.5:\n",
    "    print(\"You are Underweight\")\n",
    "elif BMI<25:\n",
    "    print(\"You are Normal\")\n",
    "elif BMI<30:\n",
    "    print(\"you are overweight\")\n",
    "else:\n",
    "    print(\"Your are very-overweight\")\n",
    "    "
   ]
  },
  {
   "cell_type": "code",
   "execution_count": null,
   "id": "7c6489c0",
   "metadata": {},
   "outputs": [],
   "source": []
  },
  {
   "cell_type": "code",
   "execution_count": null,
   "id": "f74ef805",
   "metadata": {},
   "outputs": [],
   "source": []
  }
 ],
 "metadata": {
  "kernelspec": {
   "display_name": "Python 3 (ipykernel)",
   "language": "python",
   "name": "python3"
  },
  "language_info": {
   "codemirror_mode": {
    "name": "ipython",
    "version": 3
   },
   "file_extension": ".py",
   "mimetype": "text/x-python",
   "name": "python",
   "nbconvert_exporter": "python",
   "pygments_lexer": "ipython3",
   "version": "3.9.12"
  }
 },
 "nbformat": 4,
 "nbformat_minor": 5
}
