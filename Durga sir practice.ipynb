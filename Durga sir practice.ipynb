{
 "cells": [
  {
   "cell_type": "code",
   "execution_count": null,
   "id": "e277e452",
   "metadata": {},
   "outputs": [],
   "source": [
    "x =5\n",
    "type(x)"
   ]
  },
  {
   "cell_type": "code",
   "execution_count": null,
   "id": "1eaaef7f",
   "metadata": {},
   "outputs": [],
   "source": [
    "x = \"Hello World\"\n",
    "type(x)"
   ]
  },
  {
   "cell_type": "code",
   "execution_count": null,
   "id": "fc8e9f9c",
   "metadata": {},
   "outputs": [],
   "source": [
    "x = 20\n",
    "type(x)"
   ]
  },
  {
   "cell_type": "code",
   "execution_count": null,
   "id": "a307fa4f",
   "metadata": {},
   "outputs": [],
   "source": [
    "x =20.5\n",
    "type(x)"
   ]
  },
  {
   "cell_type": "code",
   "execution_count": null,
   "id": "32424f97",
   "metadata": {},
   "outputs": [],
   "source": [
    "x = 10j\n",
    "type(x)"
   ]
  },
  {
   "cell_type": "code",
   "execution_count": null,
   "id": "22263cda",
   "metadata": {},
   "outputs": [],
   "source": [
    "x = [\"apple\", 10,  10.6, 10j]\n",
    "x"
   ]
  },
  {
   "cell_type": "code",
   "execution_count": null,
   "id": "b4c4b2c4",
   "metadata": {},
   "outputs": [],
   "source": [
    "x[0:2]"
   ]
  },
  {
   "cell_type": "code",
   "execution_count": null,
   "id": "5ef21543",
   "metadata": {},
   "outputs": [],
   "source": [
    "#Dictionary in Python"
   ]
  },
  {
   "cell_type": "code",
   "execution_count": null,
   "id": "963ad208",
   "metadata": {},
   "outputs": [],
   "source": [
    "Employee = {\"Name\": \"John\", \"Age \": 29, \"Salary\": 25000,\n",
    "            \"Company\": \"Google\"}\n",
    "print(type(Employee))\n",
    "print(\"printing Employee data.....\")\n",
    "print(Employee)"
   ]
  },
  {
   "cell_type": "code",
   "execution_count": null,
   "id": "c2c7018f",
   "metadata": {},
   "outputs": [],
   "source": [
    "Dict = {}\n",
    "print(\"Empty Dictionary:\")\n",
    "print(Dict)"
   ]
  },
  {
   "cell_type": "code",
   "execution_count": null,
   "id": "5075b564",
   "metadata": {},
   "outputs": [],
   "source": [
    "#Adding elements to dictionary one at a time\n",
    "Dict[0] ='Peter'\n",
    "Dict[1] = 'Joseph'\n",
    "Dict[2] = 'Ricky'\n",
    "Dict[3] = 'Vikash'\n",
    "print(\"\\nDictionary after adding 3 element:\")\n",
    "print(Dict)"
   ]
  },
  {
   "cell_type": "code",
   "execution_count": null,
   "id": "aa0f3fd9",
   "metadata": {},
   "outputs": [],
   "source": [
    "Dict['Emp_ages'] = 20,33,24,25\n",
    "print(\"\\nDictionary After Adding 3 element:\")\n",
    "print(Dict)"
   ]
  },
  {
   "cell_type": "code",
   "execution_count": null,
   "id": "e970870a",
   "metadata": {},
   "outputs": [],
   "source": [
    "Dict[3] = 'Java'\n",
    "print(\"\\n Updated Key value\")\n",
    "print(Dict)"
   ]
  },
  {
   "cell_type": "code",
   "execution_count": null,
   "id": "24a3f930",
   "metadata": {},
   "outputs": [],
   "source": [
    "num = int(input(\"enter the number\"))\n",
    " if num%2 =0:\n",
    "        print(\"Number is even..\")\n",
    "else:\n",
    "    print(\"Number is odd...\")"
   ]
  },
  {
   "cell_type": "code",
   "execution_count": 15,
   "id": "8d0b8ff7",
   "metadata": {},
   "outputs": [
    {
     "name": "stdout",
     "output_type": "stream",
     "text": [
      "116\n",
      "120\n"
     ]
    }
   ],
   "source": [
    "import numpy as np\n",
    "import sys\n",
    "from datetime import datetime\n",
    "a = np.array([10,20,30])\n",
    "l =[10,20,30]\n",
    "b = np.array([1,2,3])\n",
    "\n",
    "print(sys.getsizeof(a))\n",
    "print(sys.getsizeof(l))\n"
   ]
  },
  {
   "cell_type": "code",
   "execution_count": 19,
   "id": "40acb3a7",
   "metadata": {},
   "outputs": [
    {
     "data": {
      "text/plain": [
       "[10, 20, 30]"
      ]
     },
     "execution_count": 19,
     "metadata": {},
     "output_type": "execute_result"
    }
   ],
   "source": [
    "import numpy as np\n",
    "([10,20,30])"
   ]
  },
  {
   "cell_type": "code",
   "execution_count": 1,
   "id": "eca29292",
   "metadata": {},
   "outputs": [
    {
     "data": {
      "text/plain": [
       "['Asif', 25, [50, 100], [150, 90]]"
      ]
     },
     "execution_count": 1,
     "metadata": {},
     "output_type": "execute_result"
    }
   ],
   "source": [
    "list7 = ['Asif', 25,[50,100],[150,90]]\n",
    "list7\n"
   ]
  },
  {
   "cell_type": "code",
   "execution_count": 2,
   "id": "bbdfaf99",
   "metadata": {},
   "outputs": [
    {
     "data": {
      "text/plain": [
       "['asif', 25, [50, 100], [150, 90], {'David', 'John'}]"
      ]
     },
     "execution_count": 2,
     "metadata": {},
     "output_type": "execute_result"
    }
   ],
   "source": [
    "list8 = ['asif',25,[50,100],[150,90],{'John','David'}]\n",
    "list8"
   ]
  },
  {
   "cell_type": "code",
   "execution_count": null,
   "id": "29af9cfb",
   "metadata": {},
   "outputs": [],
   "source": []
  }
 ],
 "metadata": {
  "kernelspec": {
   "display_name": "Python 3 (ipykernel)",
   "language": "python",
   "name": "python3"
  },
  "language_info": {
   "codemirror_mode": {
    "name": "ipython",
    "version": 3
   },
   "file_extension": ".py",
   "mimetype": "text/x-python",
   "name": "python",
   "nbconvert_exporter": "python",
   "pygments_lexer": "ipython3",
   "version": "3.9.12"
  }
 },
 "nbformat": 4,
 "nbformat_minor": 5
}
