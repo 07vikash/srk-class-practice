{
 "cells": [
  {
   "cell_type": "code",
   "execution_count": null,
   "id": "33e243da",
   "metadata": {},
   "outputs": [],
   "source": [
    "import pandas as pd"
   ]
  },
  {
   "cell_type": "code",
   "execution_count": null,
   "id": "655886b9",
   "metadata": {},
   "outputs": [],
   "source": [
    "stats = pd.read_csv(r'D:\\Naresh IT/DemographicData.csv')"
   ]
  },
  {
   "cell_type": "code",
   "execution_count": null,
   "id": "52658e4c",
   "metadata": {},
   "outputs": [],
   "source": [
    "stats"
   ]
  },
  {
   "cell_type": "code",
   "execution_count": null,
   "id": "be3e0c58",
   "metadata": {},
   "outputs": [],
   "source": [
    "len(stats)"
   ]
  },
  {
   "cell_type": "code",
   "execution_count": null,
   "id": "0e748f4b",
   "metadata": {},
   "outputs": [],
   "source": [
    "stats.columns"
   ]
  },
  {
   "cell_type": "code",
   "execution_count": null,
   "id": "2d67ebf1",
   "metadata": {},
   "outputs": [],
   "source": [
    "len(stats.columns)"
   ]
  },
  {
   "cell_type": "code",
   "execution_count": null,
   "id": "6058ae73",
   "metadata": {},
   "outputs": [],
   "source": [
    "stats.head()"
   ]
  },
  {
   "cell_type": "code",
   "execution_count": null,
   "id": "448279eb",
   "metadata": {},
   "outputs": [],
   "source": [
    "stats.head(2)"
   ]
  },
  {
   "cell_type": "code",
   "execution_count": null,
   "id": "70f122f3",
   "metadata": {},
   "outputs": [],
   "source": [
    "stats.tail()"
   ]
  },
  {
   "cell_type": "code",
   "execution_count": null,
   "id": "12a350ca",
   "metadata": {},
   "outputs": [],
   "source": [
    "stats.tail(3)"
   ]
  },
  {
   "cell_type": "code",
   "execution_count": null,
   "id": "e4cc5751",
   "metadata": {},
   "outputs": [],
   "source": [
    "stats.info()"
   ]
  },
  {
   "cell_type": "code",
   "execution_count": null,
   "id": "65959462",
   "metadata": {},
   "outputs": [],
   "source": [
    "stats.describe()"
   ]
  },
  {
   "cell_type": "code",
   "execution_count": null,
   "id": "ba6c0a60",
   "metadata": {},
   "outputs": [],
   "source": [
    "stats.describe().transpose()"
   ]
  },
  {
   "cell_type": "code",
   "execution_count": null,
   "id": "baa87233",
   "metadata": {},
   "outputs": [],
   "source": [
    "stats.head()"
   ]
  },
  {
   "cell_type": "code",
   "execution_count": null,
   "id": "b057eef3",
   "metadata": {},
   "outputs": [],
   "source": [
    "stats.columns"
   ]
  },
  {
   "cell_type": "code",
   "execution_count": null,
   "id": "683aec92",
   "metadata": {},
   "outputs": [],
   "source": [
    "stats.columns = ['a','b','c','d','e']\n",
    "stats.head()"
   ]
  },
  {
   "cell_type": "code",
   "execution_count": null,
   "id": "4fa48408",
   "metadata": {},
   "outputs": [],
   "source": [
    "stats.columns =['CountryName','CountryCode','BirthRate','InternetUsers','IncomeGroup']"
   ]
  },
  {
   "cell_type": "code",
   "execution_count": null,
   "id": "d1b9bf71",
   "metadata": {},
   "outputs": [],
   "source": [
    "stats.head()"
   ]
  },
  {
   "cell_type": "code",
   "execution_count": null,
   "id": "f1f1a7af",
   "metadata": {},
   "outputs": [],
   "source": [
    "stats[21:26]"
   ]
  },
  {
   "cell_type": "code",
   "execution_count": null,
   "id": "264874f5",
   "metadata": {},
   "outputs": [],
   "source": [
    "stats[:]"
   ]
  },
  {
   "cell_type": "code",
   "execution_count": null,
   "id": "2872094f",
   "metadata": {},
   "outputs": [],
   "source": [
    "stats[:10]"
   ]
  },
  {
   "cell_type": "code",
   "execution_count": null,
   "id": "f09b18a8",
   "metadata": {},
   "outputs": [],
   "source": [
    "stats.head(10)"
   ]
  },
  {
   "cell_type": "code",
   "execution_count": null,
   "id": "a8f39844",
   "metadata": {},
   "outputs": [],
   "source": [
    "stats"
   ]
  },
  {
   "cell_type": "code",
   "execution_count": null,
   "id": "d58815e7",
   "metadata": {},
   "outputs": [],
   "source": [
    "stats[: : 20]"
   ]
  },
  {
   "cell_type": "code",
   "execution_count": null,
   "id": "9ac54d4b",
   "metadata": {},
   "outputs": [],
   "source": [
    "stats.columns"
   ]
  },
  {
   "cell_type": "code",
   "execution_count": null,
   "id": "42c3ad9f",
   "metadata": {},
   "outputs": [],
   "source": [
    "stats.head()"
   ]
  },
  {
   "cell_type": "code",
   "execution_count": null,
   "id": "0b155db3",
   "metadata": {},
   "outputs": [],
   "source": [
    "stats['CountryName'].head()"
   ]
  },
  {
   "cell_type": "code",
   "execution_count": null,
   "id": "6b4ba192",
   "metadata": {},
   "outputs": [],
   "source": [
    "['CountryName','BirthRate']"
   ]
  },
  {
   "cell_type": "code",
   "execution_count": null,
   "id": "900dc7f5",
   "metadata": {},
   "outputs": [],
   "source": [
    "stats[['CountryName','BirthRate']].head()"
   ]
  },
  {
   "cell_type": "code",
   "execution_count": null,
   "id": "166ac901",
   "metadata": {},
   "outputs": [],
   "source": [
    "stats.head()"
   ]
  },
  {
   "cell_type": "code",
   "execution_count": null,
   "id": "41ecab95",
   "metadata": {},
   "outputs": [],
   "source": [
    "stats[4:8][['CountryName','BirthRate']]"
   ]
  },
  {
   "cell_type": "code",
   "execution_count": null,
   "id": "aea9c730",
   "metadata": {},
   "outputs": [],
   "source": [
    "df1 = stats[['CountryName','BirthRate']]"
   ]
  },
  {
   "cell_type": "code",
   "execution_count": null,
   "id": "12d4c457",
   "metadata": {},
   "outputs": [],
   "source": [
    "df1"
   ]
  },
  {
   "cell_type": "code",
   "execution_count": null,
   "id": "7e15ca3e",
   "metadata": {},
   "outputs": [],
   "source": [
    "df2 = stats[4:8]"
   ]
  },
  {
   "cell_type": "code",
   "execution_count": null,
   "id": "e185f755",
   "metadata": {},
   "outputs": [],
   "source": [
    "df2"
   ]
  },
  {
   "cell_type": "code",
   "execution_count": null,
   "id": "d1e4935a",
   "metadata": {},
   "outputs": [],
   "source": [
    "stats.head()"
   ]
  },
  {
   "cell_type": "code",
   "execution_count": null,
   "id": "d18b6215",
   "metadata": {},
   "outputs": [],
   "source": [
    "stats[['CountryName','BirthRate','InternetUsers']][4:8]"
   ]
  },
  {
   "cell_type": "code",
   "execution_count": null,
   "id": "5c7a11bd",
   "metadata": {},
   "outputs": [],
   "source": [
    "stats.head()"
   ]
  },
  {
   "cell_type": "code",
   "execution_count": null,
   "id": "5ff82677",
   "metadata": {},
   "outputs": [],
   "source": [
    "stats.BirthRate * stats.InternetUsers"
   ]
  },
  {
   "cell_type": "code",
   "execution_count": null,
   "id": "4d2b2d6c",
   "metadata": {},
   "outputs": [],
   "source": [
    "stats['myCalc'] =stats.BirthRate * stats.InternetUsers"
   ]
  },
  {
   "cell_type": "code",
   "execution_count": null,
   "id": "2e3f13f6",
   "metadata": {},
   "outputs": [],
   "source": [
    "stats"
   ]
  },
  {
   "cell_type": "code",
   "execution_count": null,
   "id": "e66c5c5a",
   "metadata": {},
   "outputs": [],
   "source": [
    "stats.drop('myCalc',axis =1)"
   ]
  },
  {
   "cell_type": "code",
   "execution_count": null,
   "id": "0dc08dff",
   "metadata": {},
   "outputs": [],
   "source": [
    "stats.columns[2]"
   ]
  },
  {
   "cell_type": "code",
   "execution_count": null,
   "id": "765b2d53",
   "metadata": {},
   "outputs": [],
   "source": [
    "stats.InternetUsers<2"
   ]
  },
  {
   "cell_type": "code",
   "execution_count": null,
   "id": "273c9fb2",
   "metadata": {},
   "outputs": [],
   "source": [
    "Filter = stats.InternetUsers < 2"
   ]
  },
  {
   "cell_type": "code",
   "execution_count": null,
   "id": "c923d087",
   "metadata": {},
   "outputs": [],
   "source": [
    "Filter"
   ]
  },
  {
   "cell_type": "code",
   "execution_count": null,
   "id": "bda98ba4",
   "metadata": {},
   "outputs": [],
   "source": [
    "stats[3:7]"
   ]
  },
  {
   "cell_type": "code",
   "execution_count": null,
   "id": "98497a3a",
   "metadata": {},
   "outputs": [],
   "source": [
    "stats[30:40]"
   ]
  },
  {
   "cell_type": "code",
   "execution_count": null,
   "id": "56728f4c",
   "metadata": {},
   "outputs": [],
   "source": [
    "stats[Filter]"
   ]
  },
  {
   "cell_type": "code",
   "execution_count": null,
   "id": "8d45defd",
   "metadata": {},
   "outputs": [],
   "source": [
    "stats.BirthRate>40"
   ]
  },
  {
   "cell_type": "code",
   "execution_count": null,
   "id": "ff93bad8",
   "metadata": {},
   "outputs": [],
   "source": [
    "Filter2 = stats.BirthRate>40"
   ]
  },
  {
   "cell_type": "code",
   "execution_count": null,
   "id": "6f934845",
   "metadata": {},
   "outputs": [],
   "source": [
    "Filter2"
   ]
  },
  {
   "cell_type": "code",
   "execution_count": null,
   "id": "bc16f277",
   "metadata": {},
   "outputs": [],
   "source": [
    "stats[Filter2]"
   ]
  },
  {
   "cell_type": "code",
   "execution_count": null,
   "id": "6283466b",
   "metadata": {},
   "outputs": [],
   "source": [
    "Filter & Filter2"
   ]
  },
  {
   "cell_type": "code",
   "execution_count": null,
   "id": "dfc8103e",
   "metadata": {},
   "outputs": [],
   "source": [
    "stats[Filter & Filter2]"
   ]
  },
  {
   "cell_type": "code",
   "execution_count": null,
   "id": "31c25894",
   "metadata": {},
   "outputs": [],
   "source": [
    "stats[(stats.BirthRate >40) & (stats.InternetUsers < 2)]"
   ]
  },
  {
   "cell_type": "code",
   "execution_count": null,
   "id": "8a54459b",
   "metadata": {},
   "outputs": [],
   "source": [
    "stats.head()"
   ]
  },
  {
   "cell_type": "code",
   "execution_count": null,
   "id": "0cc6b0e5",
   "metadata": {},
   "outputs": [],
   "source": [
    "stats[stats.IncomeGroup == 'Low income']"
   ]
  },
  {
   "cell_type": "code",
   "execution_count": null,
   "id": "9c0af66a",
   "metadata": {},
   "outputs": [],
   "source": [
    "stats.IncomeGroup.unique()"
   ]
  },
  {
   "cell_type": "code",
   "execution_count": null,
   "id": "d6c60570",
   "metadata": {},
   "outputs": [],
   "source": [
    "import matplotlib.pyplot as plt\n",
    "import seaborn as sns\n",
    "\n",
    "%matplotlib inline\n",
    "plt.rcParams['figure.figsize'] = 8,4"
   ]
  },
  {
   "cell_type": "code",
   "execution_count": null,
   "id": "dff9f3b8",
   "metadata": {},
   "outputs": [],
   "source": [
    "stats.head()"
   ]
  },
  {
   "cell_type": "code",
   "execution_count": null,
   "id": "a8e29914",
   "metadata": {},
   "outputs": [],
   "source": [
    "vis_ = sns.displot(stats[\"InternetUsers\"])"
   ]
  },
  {
   "cell_type": "code",
   "execution_count": null,
   "id": "7f90a052",
   "metadata": {},
   "outputs": [],
   "source": [
    "vis1 =sns.displot(stats[\"InternetUsers\"])"
   ]
  },
  {
   "cell_type": "code",
   "execution_count": null,
   "id": "7c9611d0",
   "metadata": {},
   "outputs": [],
   "source": [
    "vis2 = sns.boxplot(data =stats, x=\"IncomeGroup\", y='BirthRate')"
   ]
  },
  {
   "cell_type": "code",
   "execution_count": null,
   "id": "5bbe1e3b",
   "metadata": {},
   "outputs": [],
   "source": [
    "vis3 = sns.lmplot(data = stats, x ='InternetUsers', y ='BirthRate')"
   ]
  },
  {
   "cell_type": "code",
   "execution_count": null,
   "id": "1ccdd7cc",
   "metadata": {},
   "outputs": [],
   "source": [
    "vis5 = sns.lmplot(data = stats, x = 'InternetUsers', y = 'BirthRate',\n",
    "                 fit_reg = False, hue = 'IncomeGroup')"
   ]
  },
  {
   "cell_type": "code",
   "execution_count": null,
   "id": "5cbe2030",
   "metadata": {},
   "outputs": [],
   "source": [
    "vis5 = sns.lmplot(data = stats, x ='InternetUsers', y = 'BirthRate',fit_reg = False,hue = 'IncomeGroup', size = 10)"
   ]
  },
  {
   "cell_type": "code",
   "execution_count": null,
   "id": "4df78458",
   "metadata": {},
   "outputs": [],
   "source": [
    "import seaborn as sns"
   ]
  },
  {
   "cell_type": "code",
   "execution_count": null,
   "id": "cbbaa53f",
   "metadata": {},
   "outputs": [],
   "source": []
  },
  {
   "cell_type": "code",
   "execution_count": null,
   "id": "7300fe4d",
   "metadata": {},
   "outputs": [],
   "source": []
  }
 ],
 "metadata": {
  "kernelspec": {
   "display_name": "Python 3 (ipykernel)",
   "language": "python",
   "name": "python3"
  },
  "language_info": {
   "codemirror_mode": {
    "name": "ipython",
    "version": 3
   },
   "file_extension": ".py",
   "mimetype": "text/x-python",
   "name": "python",
   "nbconvert_exporter": "python",
   "pygments_lexer": "ipython3",
   "version": "3.9.12"
  }
 },
 "nbformat": 4,
 "nbformat_minor": 5
}
