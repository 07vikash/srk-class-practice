{
 "cells": [
  {
   "cell_type": "markdown",
   "id": "60ba32ac",
   "metadata": {},
   "source": [
    "# Introduction of Python"
   ]
  },
  {
   "cell_type": "code",
   "execution_count": 3,
   "id": "5629cdf5",
   "metadata": {},
   "outputs": [],
   "source": [
    "#object oriented "
   ]
  },
  {
   "cell_type": "markdown",
   "id": "174d5905",
   "metadata": {},
   "source": [
    "object=variable=identifier\n",
    "identifier should be :\n",
    "-special character not allowed\n",
    "-should not start with numeric\n",
    "-case sensitive\n",
    "-"
   ]
  },
  {
   "cell_type": "markdown",
   "id": "e0a21d83",
   "metadata": {},
   "source": [
    "package--> Module--> Function"
   ]
  },
  {
   "cell_type": "code",
   "execution_count": 1,
   "id": "54ac9fb1",
   "metadata": {},
   "outputs": [
    {
     "name": "stdout",
     "output_type": "stream",
     "text": [
      "Reset css and font defaults in:\n",
      "C:\\Users\\15vik\\.jupyter\\custom &\n",
      "C:\\Users\\15vik\\AppData\\Roaming\\jupyter\\nbextensions\n"
     ]
    }
   ],
   "source": [
    "! jt -r"
   ]
  },
  {
   "cell_type": "code",
   "execution_count": null,
   "id": "864622a7",
   "metadata": {},
   "outputs": [],
   "source": []
  }
 ],
 "metadata": {
  "kernelspec": {
   "display_name": "Python 3 (ipykernel)",
   "language": "python",
   "name": "python3"
  },
  "language_info": {
   "codemirror_mode": {
    "name": "ipython",
    "version": 3
   },
   "file_extension": ".py",
   "mimetype": "text/x-python",
   "name": "python",
   "nbconvert_exporter": "python",
   "pygments_lexer": "ipython3",
   "version": "3.9.12"
  }
 },
 "nbformat": 4,
 "nbformat_minor": 5
}
